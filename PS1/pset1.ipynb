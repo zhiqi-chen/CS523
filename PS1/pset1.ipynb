{
 "cells": [
  {
   "cell_type": "markdown",
   "metadata": {},
   "source": [
    "# Problem Set 1\n",
    "\n",
    "To run and solve this assignment, one must have a working IPython Notebook installation. The easiest way to set it up for both Windows and Linux is to install [Anaconda](https://www.anaconda.com/products/individual). Then save this file to your computer, run Anaconda and choose this file in Anaconda's file explorer. Use `Python 3` version. Below statements assume that you have already followed these instructions. If you are new to Python or its scientific library, Numpy, there are some nice tutorials [here](https://www.learnpython.org/) and [here](http://www.scipy-lectures.org/).\n",
    "\n",
    "To run code in a cell or to render [Markdown](https://en.wikipedia.org/wiki/Markdown)+[LaTeX](https://en.wikipedia.org/wiki/LaTeX) press `Ctr+Enter` or `[>|]`(like \"play\") button above. To edit any code or text cell [double]click on its content. To change cell type, choose \"Markdown\" or \"Code\" in the drop-down menu above.\n",
    "\n",
    "If a certain output is given for some cells, that means that you are expected to get similar results in order to receive full points (small deviations are fine). For some parts we have already written the code for you. You should read it closely and understand what it does.\n",
    "\n",
    "Total: 85 points."
   ]
  },
  {
   "cell_type": "markdown",
   "metadata": {},
   "source": [
    "## [10pts] Problem 0: Numpy\n",
    "**0.1 [5pt]**\n",
    "Modify the cell below to return a 5x5 matrix of ones. Put some code there and press `Ctrl+Enter` to execute contents of the cell. You should see something like the output below. [[1]](https://docs.scipy.org/doc/numpy-1.13.0/user/basics.creation.html#arrays-creation) [[2]](https://docs.scipy.org/doc/numpy-1.13.0/reference/routines.array-creation.html#routines-array-creation)"
   ]
  },
  {
   "cell_type": "code",
   "execution_count": 9,
   "metadata": {},
   "outputs": [
    {
     "name": "stdout",
     "output_type": "stream",
     "text": [
      "[[1. 1. 1. 1. 1.]\n",
      " [1. 1. 1. 1. 1.]\n",
      " [1. 1. 1. 1. 1.]\n",
      " [1. 1. 1. 1. 1.]\n",
      " [1. 1. 1. 1. 1.]]\n"
     ]
    }
   ],
   "source": [
    "import numpy as np\n",
    "import matplotlib.pyplot as plt\n",
    "\n",
    "matrix = np.ones((5, 5))\n",
    "print(matrix)\n",
    "\n",
    "# raise NotImplementedError(\"Replace this raise statement with the code \"\n",
    "#                           \"that prints 5x5 matrix of ones\")"
   ]
  },
  {
   "cell_type": "markdown",
   "metadata": {},
   "source": [
    "**0.2 [5pt]** \n",
    "Vectorizing your code is very important to get results in a reasonable time. Let A be a 10x10 matrix and x be a 10-element column vector. Your friend writes the following code. How would you vectorize this code to run without any for loops? Compare execution speed for different values of `n` with [`%timeit`](http://ipython.readthedocs.io/en/stable/interactive/magics.html#magic-timeit)."
   ]
  },
  {
   "cell_type": "code",
   "execution_count": 9,
   "metadata": {},
   "outputs": [
    {
     "name": "stdout",
     "output_type": "stream",
     "text": [
      "[[3.25978388]\n",
      " [2.71552656]\n",
      " [3.25568886]\n",
      " [2.21816178]\n",
      " [3.66932772]\n",
      " [2.05055784]\n",
      " [1.99290837]\n",
      " [2.62874934]\n",
      " [2.31636493]\n",
      " [2.80137731]]\n"
     ]
    }
   ],
   "source": [
    "n = 10\n",
    "def compute_something(A, x):\n",
    "    v = np.zeros((n, 1))\n",
    "    for i in range(n):\n",
    "        for j in range(n):\n",
    "            v[i] += A[i, j] * x[j]\n",
    "    return v\n",
    "            \n",
    "A = np.random.rand(n, n)\n",
    "x = np.random.rand(n, 1)\n",
    "print(compute_something(A, x))"
   ]
  },
  {
   "cell_type": "code",
   "execution_count": 12,
   "metadata": {},
   "outputs": [
    {
     "name": "stdout",
     "output_type": "stream",
     "text": [
      "[[3.25978388]\n",
      " [2.71552656]\n",
      " [3.25568886]\n",
      " [2.21816178]\n",
      " [3.66932772]\n",
      " [2.05055784]\n",
      " [1.99290837]\n",
      " [2.62874934]\n",
      " [2.31636493]\n",
      " [2.80137731]]\n"
     ]
    }
   ],
   "source": [
    "def vectorized(A, x):\n",
    "#   raise NotImplementedError('Put your vectorized code here!')   \n",
    "    v = np.zeros((n, 1))\n",
    "    v = np.dot(A, x)\n",
    "    return v\n",
    "\n",
    "print(vectorized(A, x))\n",
    "assert np.max(abs(vectorized(A, x) - compute_something(A, x))) < 1e-3"
   ]
  },
  {
   "cell_type": "code",
   "execution_count": 14,
   "metadata": {},
   "outputs": [
    {
     "name": "stdout",
     "output_type": "stream",
     "text": [
      "249 µs ± 18 µs per loop (mean ± std. dev. of 7 runs, 5 loops each)\n",
      "The slowest run took 4.50 times longer than the fastest. This could mean that an intermediate result is being cached.\n",
      "10.3 µs ± 7.1 µs per loop (mean ± std. dev. of 7 runs, 5 loops each)\n",
      "---\n",
      "510 µs ± 124 µs per loop (mean ± std. dev. of 7 runs, 5 loops each)\n",
      "The slowest run took 16.75 times longer than the fastest. This could mean that an intermediate result is being cached.\n",
      "15.4 µs ± 14.3 µs per loop (mean ± std. dev. of 7 runs, 5 loops each)\n",
      "---\n",
      "24.3 ms ± 1.44 ms per loop (mean ± std. dev. of 7 runs, 5 loops each)\n",
      "The slowest run took 29.45 times longer than the fastest. This could mean that an intermediate result is being cached.\n",
      "12.1 µs ± 23.6 µs per loop (mean ± std. dev. of 7 runs, 5 loops each)\n",
      "---\n",
      "597 ms ± 2.83 ms per loop (mean ± std. dev. of 7 runs, 5 loops each)\n",
      "The slowest run took 20.08 times longer than the fastest. This could mean that an intermediate result is being cached.\n",
      "165 µs ± 272 µs per loop (mean ± std. dev. of 7 runs, 5 loops each)\n",
      "---\n"
     ]
    }
   ],
   "source": [
    "for n in [5, 10, 100, 500]:\n",
    "    A = np.random.rand(n, n)\n",
    "    x = np.random.rand(n, 1)\n",
    "    %timeit -n 5 compute_something(A, x)\n",
    "    %timeit -n 5 vectorized(A, x)\n",
    "    print('---')"
   ]
  },
  {
   "cell_type": "markdown",
   "metadata": {},
   "source": [
    "## [30pts] Problem 1: Gradient Descent and Cost Functions\n",
    "With each step of gradient descent, your parameter $\\theta_j$ comes closer to the local minimum of the cost $J(θ)$.\n",
    "\n",
    "**1.1 [6pt]**\n",
    "Compute the partial derivative of the regression loss function \n",
    "$$ J(\\theta) = \\frac{1}{2m} \\sum_{i = 1}^{m} \\big(h(x^{(i)}; \\theta) - y^{(i)}\\big)^2$$ \n",
    "with respect to the parameter $\\theta_j$, where the hypothesis $h(x;\\theta)$ is given by the linear model \n",
    "$$ h(x;\\theta) = \\theta^T x$$\n",
    "\n",
    "Please show all your steps"
   ]
  },
  {
   "cell_type": "markdown",
   "metadata": {},
   "source": [
    "** `[double click here to add a solution]` **\n",
    "\n",
    "$$ \\frac{\\partial J(\\theta)}{\\partial \\theta_j} = \\frac{1}{2m} \\sum_{i = 1}^{m} \\frac{\\partial}{\\partial \\theta_j} \\big(h(x^{(i)}; \\theta) - y^{(i)}\\big)^2 \n",
    "= \\frac{1}{2m} \\sum_{i = 1}^{m} 2\\big(h(x^{(i)}; \\theta) - y^{(i)}\\big) \\frac{\\partial}{\\partial \\theta_j} \\big(h(x^{(i)}; \\theta) - y^{(i)}\\big) $$\n",
    "\n",
    "because $$ h(x;\\theta) = \\theta^T x $$\n",
    "\n",
    "which means $$ h(x;\\theta) = \\theta_0 + \\theta_1 x_1^{(i)} + \\theta_2 x_2^{(i)} + ... + \\theta_j x_j^{(i)} $$\n",
    "$$ \\theta = (\\theta_0, \\theta_1, \\theta_2, ... , \\theta_j) $$\n",
    "\n",
    "so $$ \\frac{\\partial J(\\theta)}{\\partial \\theta_j} = \\frac{1}{m} \\sum_{i = 1}^{m} \\big(h(x^{(i)}; \\theta) - y^{(i)}\\big) x_j^{(i)} $$"
   ]
  },
  {
   "cell_type": "markdown",
   "metadata": {},
   "source": [
    "**1.2 [6pt]**\n",
    "Write a mathematical formulation of how gradient descent will adjust $\\theta_j$ values to minimize the cost $J(θ)$. Then, describe each term in the formulation."
   ]
  },
  {
   "cell_type": "markdown",
   "metadata": {},
   "source": [
    "** `[double click here to add a solution]` **\n",
    "\n",
    "$$ \\theta_j := \\theta_j - \\alpha \\big(\\frac{1}{m} \\sum_{i = 1}^{m} \\big(h(x^{(i)}; \\theta) - y^{(i)}\\big) x_j^{(i)}\\big) $$\n",
    "\n",
    "For a loss function $J(\\theta)$, in every iteration, we substract $\\theta$ by learning rate $\\alpha$ times the gradient of $J(\\theta)$\n",
    "\n",
    "$\\frac{1}{m} \\sum_{i = 1}^{m} \\big(h(x^{(i)}; \\theta) - y^{(i)}\\big) x_j^{(i)}$ is the derivative of $J(\\theta_j)$ which is also the slope of $J(\\theta_j)$ at current $\\theta_j$. We use the derivative to lead the $\\theta_j$ to the local minimum gradually. $\\lambda$ is the learning rate which control the rate of descent."
   ]
  },
  {
   "cell_type": "markdown",
   "metadata": {},
   "source": [
    "**1.3 [6pt]**\n",
    "If $x^{(i)} \\in R^4$, and $m=3$, draw the tensors $x$, $\\theta$, $h$, in $ h(x;\\theta) = \\theta^T x$, together with the ground-truth tensor $y$, specifying the dimensions of each."
   ]
  },
  {
   "cell_type": "markdown",
   "metadata": {},
   "source": [
    "** `[double click here to add a solution]` **\n",
    "\n",
    "because $$ x^{(i)} \\in R^4 $$\n",
    "        $$ m=3 $$\n",
    "        $$ h(x;\\theta) = \\theta^T x $$\n",
    "\n",
    "so $$ x = \\begin{bmatrix} x_1^{(1)}& x_1^{(2)}& x_1^{(3)}\\\\ \n",
    "                                              x_2^{(1)}& x_2^{(2)}& x_2^{(3)}\\\\\n",
    "                                              x_3^{(1)}& x_3^{(2)}& x_3^{(3)}\\\\\n",
    "                                              x_4^{(1)}& x_4^{(2)}& x_4^{(3)}\n",
    "          \\end{bmatrix}^{\\,4x3}, \\qquad\n",
    "          \\theta = \\begin{bmatrix} \\theta_1\\\\\n",
    "                                   \\theta_2\\\\\n",
    "                                   \\theta_3\\\\\n",
    "                                   \\theta_4\n",
    "          \\end{bmatrix}^{\\,4x1}, \\qquad \n",
    "      y = \\begin{bmatrix} y^{(1)}& y^{(2)}& y^{(3)}\n",
    "          \\end{bmatrix}^{\\,1x3} $$\n",
    "\n",
    "$$ h(x;\\theta) = \\theta^T x = \\begin{bmatrix} \\theta_1& \\theta_2& \\theta_3& \\theta_4 \n",
    "                              \\end{bmatrix} \n",
    "                              \\cdot\n",
    "                              \\begin{bmatrix} x_1^{(1)}& x_1^{(2)}& x_1^{(3)}\\\\ \n",
    "                                              x_2^{(1)}& x_2^{(2)}& x_2^{(3)}\\\\\n",
    "                                              x_3^{(1)}& x_3^{(2)}& x_3^{(3)}\\\\\n",
    "                                              x_4^{(1)}& x_4^{(2)}& x_4^{(3)}\n",
    "                              \\end{bmatrix}\n",
    "               = \\begin{bmatrix} h(x^{(1)}; \\theta)& h(x^{(2)}; \\theta)& h(x^{(3)}; \\theta)\n",
    "                 \\end{bmatrix} $$\n",
    "\n",
    "$$ h(x^{(i)}; \\theta) - y^{(i)} = \\begin{bmatrix} h(x^{(1)}; \\theta)& h(x^{(2)}; \\theta)& h(x^{(3)}; \\theta)\n",
    "                                  \\end{bmatrix} \n",
    "                                  -\n",
    "                                  \\begin{bmatrix} y^{(1)}& y^{(2)}& y^{(3)}\n",
    "                                  \\end{bmatrix}\n",
    "                                  =\n",
    "                                  \\begin{bmatrix} h(x^{(1)}; \\theta) - y^{(1)}& h(x^{(2)}; \\theta) - y^{(2)}& h(x^{(3)}; \\theta) - y^{(3)}\n",
    "                                  \\end{bmatrix} $$"
   ]
  },
  {
   "cell_type": "markdown",
   "metadata": {},
   "source": [
    "**1\\.4 [2pt]**\n",
    "How do we know that gradient descent has converged?"
   ]
  },
  {
   "cell_type": "markdown",
   "metadata": {},
   "source": [
    "** `[double click here to add a solution]` **\n",
    "\n",
    "If gradient descent is working properly, the cost function should decrease after every iteration. Therefore, when gradient descent can’t decrease the cost function anymore and remains more or less on the same level, it has converged. "
   ]
  },
  {
   "cell_type": "markdown",
   "metadata": {},
   "source": [
    "**1.5 [2pt]**\n",
    "Write an L2 regularized form of $$ J(\\theta) = \\frac{1}{2m} \\sum_{i = 1}^{m} \\big(h(x^{(i)}; \\theta) - y^{(i)}\\big)^2,$$ explain the additional term(s), and explain why the additional term(s) achieve regularization (i.e. help avoid overfitting)."
   ]
  },
  {
   "cell_type": "markdown",
   "metadata": {},
   "source": [
    "** `[double click here to add a solution]` **\n",
    "\n",
    "$$ J(\\theta) = \\frac{1}{2m} \\left[ \\sum_{i = 1}^{m} \\big(h(x^{(i)}; \\theta) - y^{(i)}\\big)^2 + \\lambda \\sum_{j = 1}^{n} \\theta_j^{\\,2} \\right] $$\n",
    "\n",
    "“L-2” norm squared, i.e. sum of sq. elements $\\sum \\theta_j^{\\,2}$\n",
    "\n",
    "Penalizes large $\\theta$\n",
    "\n",
    "$\\lambda$ controls amount of regularization"
   ]
  },
  {
   "cell_type": "markdown",
   "metadata": {},
   "source": [
    "**1.6 [2pt]** Briefly, explain how the computational speed of backpropagation would be affected if it did not include a forward pass"
   ]
  },
  {
   "cell_type": "markdown",
   "metadata": {},
   "source": [
    "** `[double click here to add a solution]` **\n",
    "\n",
    "need to re-evaluate functions many times\n",
    "\n",
    "which is very inefficient! E.g. 100,000-dim parameters"
   ]
  },
  {
   "cell_type": "markdown",
   "metadata": {},
   "source": [
    "**1.7 [6pt]** Suppose we have a classification problem with inputs $x$ and corresponding labels $y$, where $y^{(i)} \\in \\{-1,+1\\}$. We would like to learn a classifier that computes a linear function of the input $h=\\theta^T x$, and predicts $+1$ if $h(x^{(i)}) \\ge 0$, or $-1$ otherwise. \n",
    "\n",
    "\n",
    "A) What can be said about the correctness of the classifier’s prediction if $y^{(i)}h(x^{(i)})>0$? \n",
    "\n",
    "B) Is $yh(x)$ a good loss function to minimize? Why?\n"
   ]
  },
  {
   "cell_type": "markdown",
   "metadata": {},
   "source": [
    "** `[double click here to add a solution]` **\n",
    "\n",
    "if $y^{(i)}h(x^{(i)}) > 0$\n",
    "\n",
    "then $y^{(i)} = -1$ and $h(x^{(i)}) < 0$\n",
    "\n",
    "or $y^{(i)} = 1$ and $h(x^{(i)}) > 0$\n",
    "\n",
    "because $h(x^{(i)}) \\ge 0, y^{(i)} = 1$\n",
    "\n",
    "and $h(x^{(i)}) < 0, y^{(i)} = -1$\n",
    "\n",
    "so $y^{(i)}h(x^{(i)})>0$ when correctly classified\n",
    "\n",
    "$\n",
    "\\begin{aligned}\n",
    "&\\text {Table 1. $h(x^{(i)})$}\\\\\n",
    "&\\begin{array}{cccc}\n",
    "\\hline\n",
    "             &         & y^{(i)} &    \\\\ \\hline\n",
    "             &         & -1      & 1  \\\\ \\hline\n",
    " h(x^{(i)})  & < 0     & 1       & -1 \\\\ \\hline\n",
    "             & \\ge 0   & -1      & 1  \\\\ \\hline\n",
    "\\end{array}\n",
    "\\end{aligned}\n",
    "\\quad $\n",
    "$\n",
    "\\begin{aligned}\n",
    "&\\text {Table 2. $y^{(i)}h(x^{(i)})$}\\\\\n",
    "&\\begin{array}{cccc}\n",
    "\\hline\n",
    "             &         & y^{(i)} &    \\\\ \\hline\n",
    "             &         & -1      & 1  \\\\ \\hline\n",
    " h(x^{(i)})  & < 0     & -1      & -1 \\\\ \\hline\n",
    "             & \\ge 0   &  1      & 1  \\\\ \\hline\n",
    "\\end{array}\n",
    "\\end{aligned}\n",
    "$\n",
    "\n",
    "we can see from the two tables that the accuracy of the classifier’s prediction if $y^{(i)}h(x^{(i)}) > 0$ is only 50%\n",
    "\n",
    "so $yh(x)$ is not a good loss function to minimize"
   ]
  },
  {
   "cell_type": "markdown",
   "metadata": {},
   "source": [
    "## [35pts] Problem 2: Logistic Regression"
   ]
  },
  {
   "cell_type": "markdown",
   "metadata": {},
   "source": [
    "In this part of the exercise, you will build a logistic regression model to predict whether a student\n",
    "gets admitted into a university.\n",
    "\n",
    "Suppose that you are the administrator of a university department and you want to determine\n",
    "each applicant’s chance of admission based on their results on two exams. You have historical\n",
    "data from previous applicants in *ex2data1.txt* that you can use as a training set for logistic regression. For each\n",
    "training example, you have the applicant’s scores on two exams and the admissions decision.\n",
    "\n",
    "Your task is to build a classification model that estimates an applicant’s probability of admission based on the scores from those two exams. This outline and code framework will guide you through the exercise.\n",
    "\n",
    "**2\\.1 Implementation**"
   ]
  },
  {
   "cell_type": "code",
   "execution_count": 12,
   "metadata": {},
   "outputs": [
    {
     "name": "stdout",
     "output_type": "stream",
     "text": [
      "Tested with:\n",
      "Python 3.8.8 (default, Apr 13 2021, 12:59:45) \n",
      "[Clang 10.0.0 ]\n",
      "{'numpy': '1.20.1', 'matplotlib': '3.3.4'}\n"
     ]
    }
   ],
   "source": [
    "import sys\n",
    "import numpy as np\n",
    "import matplotlib\n",
    "import matplotlib.pyplot as plt\n",
    "print('Tested with:')\n",
    "print('Python', sys.version)\n",
    "print({x.__name__: x.__version__ for x in [np, matplotlib]})"
   ]
  },
  {
   "cell_type": "markdown",
   "metadata": {},
   "source": [
    "**2.1.1 Visualizing the data**\n",
    "\n",
    "Before starting to implement any learning algorithm, it is always good to visualize the data if possible. This first part of the code will load the data and display it on a 2-dimensional plot by calling the function plotData. The axes are the two exam scores, and the positive and negative examples are shown with different markers."
   ]
  },
  {
   "cell_type": "code",
   "execution_count": 13,
   "metadata": {},
   "outputs": [
    {
     "name": "stdout",
     "output_type": "stream",
     "text": [
      "(100, 2) 30.05882244669796 99.82785779692128 float64\n",
      "(100, 1) 0.0 1.0 float64\n",
      "(100, 3) 1.0 99.82785779692128 float64\n",
      "(100, 1) 0 1 int32\n"
     ]
    }
   ],
   "source": [
    "def read_classification_csv_data(fn, add_ones=False):\n",
    "    # read comma separated data\n",
    "    data = np.loadtxt(fn, delimiter=',')\n",
    "    X_, y_ = data[:, :-1], data[:, -1, None]  # a fast way to keep last dim\n",
    "\n",
    "    print(X_.shape, X_.min(), X_.max(), X_.dtype)\n",
    "    print(y_.shape, y_.min(), y_.max(), y_.dtype)\n",
    "    # note that y is float! \n",
    "\n",
    "    # insert the column of 1's into the \"X\" matrix (for bias)\n",
    "    X = np.insert(X_, X_.shape[1], 1, axis=1) if add_ones else X_\n",
    "    y = y_.astype(np.int32)\n",
    "    return X, y\n",
    "    \n",
    "X_data, y_data = read_classification_csv_data('ex2data1.txt', add_ones=True)\n",
    "print(X_data.shape, X_data.min(), X_data.max(), X_data.dtype)\n",
    "print(y_data.shape, y_data.min(), y_data.max(), y_data.dtype)"
   ]
  },
  {
   "cell_type": "code",
   "execution_count": 14,
   "metadata": {},
   "outputs": [
    {
     "data": {
      "image/png": "[encoded data removed]",
      "text/plain": [
       "<Figure size 720x432 with 1 Axes>"
      ]
     },
     "metadata": {
      "needs_background": "light"
     },
     "output_type": "display_data"
    }
   ],
   "source": [
    "# how does the *X[y.ravel()==1, :2].T trick work?\n",
    "# https://docs.python.org/3/tutorial/controlflow.html#unpacking-argument-lists\n",
    "\n",
    "def plot_data(X, y, labels, markers, xlabel, ylabel, figsize=(10, 6), ax=None):\n",
    "    if figsize is not None:\n",
    "        plt.figure(figsize=figsize)\n",
    "\n",
    "    ax = ax or plt.gca()\n",
    "    for label_id, (label, marker) in enumerate(zip(labels, markers)):        \n",
    "        ax.plot(*X[y.ravel()==label_id, :2].T, marker, label=label)\n",
    "    ax.set_xlabel(xlabel)\n",
    "    ax.set_ylabel(ylabel)\n",
    "    plt.legend()\n",
    "    ax.grid(True)\n",
    "    \n",
    "student_plotting_spec = {\n",
    "    'X': X_data,\n",
    "    'y': y_data, \n",
    "    'xlabel': 'Exam 1 score', \n",
    "    'ylabel': 'Exam 2 score',\n",
    "    'labels': ['Not admitted', 'Admitted'], \n",
    "    'markers': ['yo', 'k+'], \n",
    "    'figsize': (10, 6)\n",
    "}\n",
    "    \n",
    "plot_data(**student_plotting_spec)\n",
    "plt.show()"
   ]
  },
  {
   "cell_type": "markdown",
   "metadata": {},
   "source": [
    "**2.1.2 [5pts] Sigmoid function** \n",
    "\n",
    "Before you start with the actual cost function, recall that the logistic regression hypothesis is defined as:\n",
    "\n",
    "$h_\\theta(x) = g(\\theta^Tx)$\n",
    "\n",
    "where function g is the sigmoid function. The sigmoid function is defined as:\n",
    "\n",
    "$g(z) = \\dfrac{1}{1+e^{-z}}$\n",
    "\n",
    "Your first step is to implement/find a sigmoid function so it can be called by the rest of your program. Your code should also work with vectors and matrices. For a matrix, your function should perform the sigmoid function on every element. \n",
    "\n",
    "When you are finished, (a) plot the sigmoid function, and (b) test the function with a scalar, a vector, and a matrix. For scalar large positive values of x, the sigmoid should be close to 1, while for scalar large negative values, the sigmoid should be close to 0. Evaluating sigmoid(0) should give you exactly 0.5."
   ]
  },
  {
   "cell_type": "code",
   "execution_count": 15,
   "metadata": {},
   "outputs": [
    {
     "data": {
      "image/png": "[encoded data removed]",
      "text/plain": [
       "<Figure size 432x288 with 1 Axes>"
      ]
     },
     "metadata": {
      "needs_background": "light"
     },
     "output_type": "display_data"
    }
   ],
   "source": [
    "# check out scipy.special for great variaty of vectorized functions\n",
    "# remember that sigmoid is the inverse of logit function\n",
    "# maybe worth checking out scipy.special.logit first\n",
    "\n",
    "# sigmoid = raise NotImplementedError(\"Replace this raise statement with the sigmoid function from scipy.special\")\n",
    "def sigmoid(z):\n",
    "    return 1/(1 + np.exp(-z))\n",
    "\n",
    "def check_that_sigmoid_f(f):\n",
    "    x_test = np.linspace(-10, 10, 50)\n",
    "    sigm_test = f(x_test)\n",
    "    plt.plot(x_test, sigm_test)\n",
    "    plt.title(\"Sigmoid function\")\n",
    "    plt.grid(True)\n",
    "    plt.show()\n",
    "    \n",
    "check_that_sigmoid_f(sigmoid)"
   ]
  },
  {
   "cell_type": "markdown",
   "metadata": {},
   "source": [
    "**2.1.3 [15pts] Cost function and gradient**\n",
    "\n",
    "Now you will implement the cost function and gradient for logistic regression. Complete the code\n",
    "in the functions *hyposesis_function* and *binary_logistic_loss* below to return the value of the hypothesis function and the cost, respectively. Recall that the cost function in logistic regression is\n",
    "\n",
    "$J(\\theta) \\ = \\ \\frac{1}{m} \\ \\sum_{i=1}^{m} \\ [ \\ -y^{(i)} log(h_\\theta(x^{(i)})) \\ - \\ (1 - y^{(i)})log(1-h_\\theta(x^{(i)})) \\ ]$\n",
    "\n",
    "and the gradient of the cost is a vector of the same length as $\\theta$ where the $j^{th}$ element (for $j = 0, 1,...,n$) is defined as follows:\n",
    "\n",
    "$\\frac{\\partial J(\\theta)}{\\partial \\theta_{j}} \\ = \\ \\frac{1}{m} \\ \\sum_{i=1}^{m} \\ (h_\\theta(x^{(i)})-y^{(i)}) x_j^{(i)}$\n",
    "\n",
    "where $m$ is the number of points and $n$ is the number of features. Note that while this gradient looks identical to the linear regression gradient, the formula is\n",
    "actually different because linear and logistic regression have different definitions of $h_\\theta(x)$.\n",
    "\n",
    "What should be the value of the loss for $\\theta = \\bar 0$ regardless of input? Why? Make sure your code also outputs this value."
   ]
  },
  {
   "cell_type": "code",
   "execution_count": 39,
   "metadata": {},
   "outputs": [],
   "source": [
    "# we are trying to fit a function that would return a \n",
    "# \"probability of \"\n",
    "\n",
    "# hyposesis_function describes parametric family of functions that we are\n",
    "# going to pick our \"best fitting function\" from. It is parameterized by\n",
    "# real-valued vector theta, i.e. we are going to pick\n",
    "#    h_best = argmin_{h \\in H} logistic_loss_h(x, y, h)\n",
    "# but because there exist a bijection between theta's and h's it is \n",
    "# eqvivalent to choosing\n",
    "#    theta_best = argmin_{theta \\in H} logistic_loss_theta(x, y, theta)\n",
    "\n",
    "def hyposesis_function(x, theta):\n",
    "    return sigmoid(np.dot(x, theta))\n",
    "\n",
    "# negative log likelihood of observing sequence of integer\n",
    "# y's given probabilities y_pred's of each Bernoulli trial\n",
    "# recommentation: convert both variables to floats \n",
    "# to avoid scenarios like -1*y != -y for uint8\n",
    "# use np.mean and broadcasting\n",
    "def binary_logistic_loss(y, y_pred): \n",
    "    \n",
    "    assert y_pred.shape == y.shape\n",
    "    y, y_pred = y.astype(np.float64), y_pred.astype(np.float64)\n",
    "    # When y_pred = 0, log(0) = -inf, \n",
    "    # we could add a small constant to avoid this case\n",
    "    CONSTANT = 0.000001\n",
    "    y_pred = np.clip(y_pred, 0+CONSTANT, 1-CONSTANT)\n",
    "    \n",
    "    # raise NotImplementedError('Calculate the log likelihoods')\n",
    "    return np.mean(-y * np.log(y_pred) - (1 - y) * np.log(1 - y_pred))\n",
    "\n",
    "\n",
    "def logistic_loss_theta_grad(x, y, h, theta):\n",
    "    \"\"\"\n",
    "    Arguments (np arrays of shape):\n",
    "        \n",
    "        x : [m, n] ground truth data\n",
    "        y : [m, 1] ground truth prediction\n",
    "        h : [m, n] -> [m, 1] our guess for a prediction function\n",
    "    \n",
    "    \"\"\"\n",
    "    # reshape theta: n by 1\n",
    "    theta = theta.reshape((-1,1))\n",
    "    y_pred = h(x, theta)\n",
    "    point_wise_grads = (y_pred - y)*x\n",
    "    grad = np.mean(point_wise_grads, axis=0)[:, None]\n",
    "    assert grad.shape == theta.shape\n",
    "    return grad.ravel()\n",
    "    \n",
    "\n",
    "def logistic_loss_theta(x, y, h, theta):\n",
    "    # reshape theta: n by 1\n",
    "    theta = theta.reshape((-1,1))\n",
    "    return binary_logistic_loss(y, h(x, theta))\n"
   ]
  },
  {
   "cell_type": "code",
   "execution_count": 40,
   "metadata": {},
   "outputs": [
    {
     "name": "stdout",
     "output_type": "stream",
     "text": [
      "0.6931471805599453\n",
      "[-12.00921659 -11.26284221  -0.1       ]\n"
     ]
    }
   ],
   "source": [
    "# Check that with theta as zeros, cost is about 0.693:\n",
    "theta_init = np.zeros((X_data.shape[1], 1))\n",
    "print(logistic_loss_theta(X_data, y_data, hyposesis_function, theta_init))\n",
    "print(logistic_loss_theta_grad(X_data, y_data, hyposesis_function, theta_init))"
   ]
  },
  {
   "cell_type": "markdown",
   "metadata": {},
   "source": [
    "**2.1.4 Learning parameters using *scipy.optimize***\n",
    "\n",
    "Instead of taking gradient descent steps, use a scipy.optimize built-in function called *scipy.optimize.minimize*. In this case, we will use the *[conjugate gradient algorithm](https://docs.scipy.org/doc/scipy/reference/optimize.minimize-cg.html)*. \n",
    "\n",
    "The final $\\theta$ value will then be used to plot the\n",
    "decision boundary on the training data, as seen in the figure below."
   ]
  },
  {
   "cell_type": "code",
   "execution_count": 20,
   "metadata": {},
   "outputs": [],
   "source": [
    "import scipy.optimize\n",
    "from functools import partial"
   ]
  },
  {
   "cell_type": "code",
   "execution_count": 21,
   "metadata": {},
   "outputs": [],
   "source": [
    "def optimize(theta_init, loss, loss_grad, max_iter=10000, print_every=1000, optimizer_fn=None, show=False):\n",
    "    theta = theta_init.copy()\n",
    "    opt_args = {'x0': theta_init, 'fun': loss, 'jac': loss_grad, 'options': {'maxiter': max_iter}}\n",
    "\n",
    "    loss_curve = []\n",
    "    def scipy_callback(theta):\n",
    "        f_value = loss(theta)\n",
    "        loss_curve.append(f_value)\n",
    "        \n",
    "    if optimizer_fn is None:\n",
    "        optimizer_fn = partial(scipy.optimize.minimize, method='CG', callback=scipy_callback)\n",
    "\n",
    "    opt_result = optimizer_fn(**opt_args)\n",
    "    \n",
    "    if show:\n",
    "        plt.plot(loss_curve)\n",
    "        plt.show()\n",
    "    \n",
    "    return opt_result['x'].reshape((-1, 1)), opt_result['fun']"
   ]
  },
  {
   "cell_type": "code",
   "execution_count": 22,
   "metadata": {},
   "outputs": [
    {
     "data": {
      "image/png": "[encoded data removed]",
      "text/plain": [
       "<Figure size 432x288 with 1 Axes>"
      ]
     },
     "metadata": {
      "needs_background": "light"
     },
     "output_type": "display_data"
    },
    {
     "name": "stdout",
     "output_type": "stream",
     "text": [
      "0.20349770339152617\n"
     ]
    }
   ],
   "source": [
    "theta_init = np.zeros((3, 1))\n",
    "loss = partial(logistic_loss_theta, X_data, y_data, hyposesis_function)\n",
    "loss_grad = partial(logistic_loss_theta_grad, X_data, y_data, hyposesis_function)\n",
    "theta, best_cost = optimize(theta_init, loss, loss_grad, show=True)\n",
    "print(best_cost)"
   ]
  },
  {
   "cell_type": "code",
   "execution_count": 23,
   "metadata": {},
   "outputs": [
    {
     "data": {
      "image/png": "[encoded data removed]",
      "text/plain": [
       "<Figure size 720x432 with 1 Axes>"
      ]
     },
     "metadata": {
      "needs_background": "light"
     },
     "output_type": "display_data"
    }
   ],
   "source": [
    "# Plotting the decision boundary: two points, draw a line between\n",
    "# Decision boundary occurs when h = 0, or when\n",
    "# theta_0*x1 + theta_1*x2 + theta_2 = 0\n",
    "# y=mx+b is replaced by x2 = (-1/theta1)(theta2 + theta0*x1)\n",
    "\n",
    "line_xs = np.array([np.min(X_data[:,0]), np.max(X_data[:,0])])\n",
    "line_ys = (-1./theta[1])*(theta[2] + theta[0]*line_xs)\n",
    "plot_data(**student_plotting_spec)\n",
    "plt.plot(line_xs, line_ys, 'b-', lw=10, alpha=0.2, label='Decision Boundary')\n",
    "plt.legend()\n",
    "plt.show()"
   ]
  },
  {
   "cell_type": "markdown",
   "metadata": {},
   "source": [
    "**2.1.5 [15pts] Evaluating logistic regression**\n",
    "\n",
    "After learning the parameters, you can use the model to predict whether a particular student will\n",
    "be admitted. \n",
    "\n",
    "(a) [5 pts] Show that for a student with an Exam 1 score of 45 and an Exam 2 score of 85, you should\n",
    "expect to see an admission probability of 0.776.\n",
    "\n",
    "Another way to evaluate the quality of the parameters we have found is to see how well the\n",
    "learned model predicts on our training set. \n",
    "\n",
    "(b) [10 pts] In this part, your task is to complete the code in\n",
    "*makePrediction*. The predict function will produce “1” or “0” predictions given a dataset and a learned\n",
    "parameter vector $\\theta$. After you have completed the code, the script below will proceed to report the\n",
    "training accuracy of your classifier by computing the percentage of examples it got correct. You\n",
    "should also see a Training Accuracy of 89.0. "
   ]
  },
  {
   "cell_type": "code",
   "execution_count": 24,
   "metadata": {},
   "outputs": [
    {
     "name": "stdout",
     "output_type": "stream",
     "text": [
      "(1, 3)\n",
      "[[0.77626185]]\n"
     ]
    }
   ],
   "source": [
    "# For a student with an Exam 1 score of 45 and an Exam 2 score of 85, \n",
    "# you should expect to see an admission probability of 0.776.\n",
    "check_data = np.array([[45., 85., 1]])\n",
    "print(check_data.shape)\n",
    "print(hyposesis_function(check_data, theta))"
   ]
  },
  {
   "cell_type": "code",
   "execution_count": 26,
   "metadata": {},
   "outputs": [
    {
     "name": "stdout",
     "output_type": "stream",
     "text": [
      "89.0\n"
     ]
    }
   ],
   "source": [
    "# use hyposesis function and broadcast compare operator\n",
    "def predict(x, theta):\n",
    "    # raise NotImplementedError('Replace this with your implementation')\n",
    "    return hyposesis_function(x, theta) > 0.5\n",
    "\n",
    "def accuracy(x, y, theta):\n",
    "    # raise NotImplementedError('Replace this with your implementation')\n",
    "    y_pred = predict(x, theta)\n",
    "    return (np.sum(y == y_pred) / y.shape[0]) * 100\n",
    "\n",
    "print(accuracy(X_data, y_data, theta))"
   ]
  },
  {
   "cell_type": "markdown",
   "metadata": {},
   "source": [
    "## [10pts] Problem 3: Simple Regularization Methods\n",
    "In learning neural networks, aside from minimizing a loss function $\\mathcal{L}(\\theta)$ with respect to the network parameters $\\theta$, we usually explicitly or implicitly add some regularization term to reduce overfitting. A simple and popular regularization strategy is to penalize some *norm* of $\\theta$."
   ]
  },
  {
   "cell_type": "markdown",
   "metadata": {},
   "source": [
    "### [5pts] Q3.1:  L2 regularization\n",
    "\n",
    "We can penalize the L2 norm of $\\theta$: we modify our objective function to be $\\mathcal{L}(\\theta) + \\lambda \\|\\theta\\|^2$ where $\\lambda$ is the weight of regularization. \n",
    "We will minimize this objective using gradient descent with step size $\\eta$.\n",
    "Derive the update rule: at time $t+1$, express the new parameters $\\theta_{t+1}$ in terms of the old parameters $\\theta_t$, the gradient $g_t=\\frac{\\partial \\mathcal{L}}{\\partial \\theta_t}$, $\\eta$, and $\\lambda$."
   ]
  },
  {
   "cell_type": "markdown",
   "metadata": {},
   "source": [
    "**[Double click here to add your answer]**\n",
    "\n",
    "because $$ \\frac{\\partial \\mathcal{L}}{\\partial \\theta_t} = g_t $$\n",
    "$$ \\frac{\\partial}{\\partial \\theta_t} \\lambda \\|\\theta\\|^2 = 2\\lambda\\theta_t $$\n",
    "\n",
    "so $$ \\theta_{t+1} = \\theta_{t} - \\eta(g_t + 2\\lambda\\theta_t) $$"
   ]
  },
  {
   "cell_type": "markdown",
   "metadata": {},
   "source": [
    "### [5pts] Q3.2:  L1 regularization\n",
    "\n",
    "Now let's consider L1 regularization: our objective in this case is $\\mathcal{L}(\\theta) + \\lambda \\|\\theta\\|_1$. Derive the update rule. \n",
    "\n",
    "(Technically this becomes *Sub-Gradient* Descent since the L1 norm is not differentiable at 0. But practically it is usually not an issue.)"
   ]
  },
  {
   "cell_type": "markdown",
   "metadata": {},
   "source": [
    "**[Double click here to add your answer]**\n",
    "\n",
    "because $$ \\frac{\\partial \\mathcal{L}}{\\partial \\theta_t} = g_t $$\n",
    "$$ \\frac{\\partial}{\\partial \\theta_t} \\lambda \\|\\theta\\|_1 = \\lambda $$\n",
    "\n",
    "so $$ \\theta_{t+1} = \\theta_{t} - \\eta(g_t + \\lambda) $$"
   ]
  }
 ],
 "metadata": {
  "kernelspec": {
   "display_name": "Python 3",
   "language": "python",
   "name": "python3"
  },
  "language_info": {
   "codemirror_mode": {
    "name": "ipython",
    "version": 3
   },
   "file_extension": ".py",
   "mimetype": "text/x-python",
   "name": "python",
   "nbconvert_exporter": "python",
   "pygments_lexer": "ipython3",
   "version": "3.6.13"
  }
 },
 "nbformat": 4,
 "nbformat_minor": 1
}
